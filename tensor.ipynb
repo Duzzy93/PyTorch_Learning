{
 "cells": [
  {
   "cell_type": "code",
   "execution_count": 2,
   "id": "c07c58ca",
   "metadata": {},
   "outputs": [],
   "source": [
    "import torch"
   ]
  },
  {
   "cell_type": "code",
   "execution_count": 3,
   "id": "8725a4e0",
   "metadata": {},
   "outputs": [
    {
     "name": "stdout",
     "output_type": "stream",
     "text": [
      "tensor([1., 3., 5., 7., 9., 4.])\n"
     ]
    }
   ],
   "source": [
    "t = torch.tensor([1., 3., 5., 7., 9., 4.])\n",
    "print(t)"
   ]
  },
  {
   "cell_type": "code",
   "execution_count": 4,
   "id": "34860e0a",
   "metadata": {},
   "outputs": [
    {
     "name": "stdout",
     "output_type": "stream",
     "text": [
      "1\n",
      "torch.Size([6])\n",
      "torch.Size([6])\n"
     ]
    }
   ],
   "source": [
    "print(t.dim())\n",
    "print(t.shape)\n",
    "print(t.size())"
   ]
  },
  {
   "cell_type": "code",
   "execution_count": 6,
   "id": "1d9369a1",
   "metadata": {},
   "outputs": [
    {
     "name": "stdout",
     "output_type": "stream",
     "text": [
      "tensor(1.) tensor(7.) tensor(4.)\n",
      "tensor([3., 5., 7.]) tensor([7., 9.])\n",
      "tensor([1., 3., 5.]) tensor([9., 4.])\n"
     ]
    }
   ],
   "source": [
    "print(t[0],t[3],t[-1])\n",
    "print(t[1:4], t[3:-1])\n",
    "print(t[:3], t[4:])"
   ]
  },
  {
   "cell_type": "code",
   "execution_count": 8,
   "id": "e4db05b7",
   "metadata": {},
   "outputs": [
    {
     "name": "stdout",
     "output_type": "stream",
     "text": [
      "tensor([[ 1.,  3.,  5.],\n",
      "        [ 7.,  9., 11.],\n",
      "        [ 2.,  4.,  6.],\n",
      "        [ 8., 10., 12.]])\n"
     ]
    }
   ],
   "source": [
    "t = torch.tensor([[1.,3.,5.],\n",
    "                 [7.,9.,11.],\n",
    "                 [2.,4.,6.],\n",
    "                 [8.,10.,12.],\n",
    "                 ])\n",
    "print(t)"
   ]
  },
  {
   "cell_type": "code",
   "execution_count": 9,
   "id": "3a9f924e",
   "metadata": {},
   "outputs": [
    {
     "name": "stdout",
     "output_type": "stream",
     "text": [
      "2\n",
      "torch.Size([4, 3])\n"
     ]
    }
   ],
   "source": [
    "print(t.dim())\n",
    "print(t.shape)"
   ]
  },
  {
   "cell_type": "code",
   "execution_count": 11,
   "id": "7fc18267",
   "metadata": {},
   "outputs": [
    {
     "name": "stdout",
     "output_type": "stream",
     "text": [
      "tensor(1.) tensor(12.)\n",
      "\n",
      "tensor([1., 3., 5.]) tensor([1., 3., 5.])\n",
      "torch.Size([3])\n",
      "\n",
      "tensor([ 5., 11.,  6., 12.])\n",
      "torch.Size([4])\n",
      "\n",
      "tensor([[ 7.,  9.],\n",
      "        [ 2.,  4.],\n",
      "        [ 8., 10.]])\n"
     ]
    }
   ],
   "source": [
    "print(t[0,0], t[3,-1])\n",
    "print()\n",
    "print(t[0],t[0,:])\n",
    "print(t[0].shape)\n",
    "print()\n",
    "print(t[:,2])\n",
    "print(t[:,2].shape)\n",
    "print()\n",
    "print(t[1:4,:2])"
   ]
  },
  {
   "cell_type": "code",
   "execution_count": 14,
   "id": "9ec7091c",
   "metadata": {},
   "outputs": [
    {
     "name": "stdout",
     "output_type": "stream",
     "text": [
      "tensor([[0., 0., 0., 0.],\n",
      "        [0., 0., 0., 0.],\n",
      "        [0., 0., 0., 0.]])\n"
     ]
    }
   ],
   "source": [
    "t = torch.empty([3,4])\n",
    "print(t)"
   ]
  },
  {
   "cell_type": "code",
   "execution_count": 15,
   "id": "9414b4c5",
   "metadata": {},
   "outputs": [
    {
     "name": "stdout",
     "output_type": "stream",
     "text": [
      "tensor([[0., 0., 0., 0.],\n",
      "        [0., 0., 0., 0.],\n",
      "        [0., 0., 0., 0.]])\n",
      "tensor([[0., 0., 0., 0.],\n",
      "        [0., 0., 0., 0.],\n",
      "        [0., 0., 0., 0.]])\n"
     ]
    }
   ],
   "source": [
    "print(torch.empty_like(t))\n",
    "print(torch.empty(t.shape))"
   ]
  },
  {
   "cell_type": "code",
   "execution_count": 16,
   "id": "47c35688",
   "metadata": {},
   "outputs": [
    {
     "name": "stdout",
     "output_type": "stream",
     "text": [
      "tensor([[[0., 0.],\n",
      "         [0., 0.]],\n",
      "\n",
      "        [[0., 0.],\n",
      "         [0., 0.]],\n",
      "\n",
      "        [[0., 0.],\n",
      "         [0., 0.]]])\n",
      "tensor([[[0., 0.],\n",
      "         [0., 0.]],\n",
      "\n",
      "        [[0., 0.],\n",
      "         [0., 0.]],\n",
      "\n",
      "        [[0., 0.],\n",
      "         [0., 0.]]])\n"
     ]
    }
   ],
   "source": [
    "t = torch.zeros([3,2,2])\n",
    "tl = torch.zeros_like(t)\n",
    "print(t)\n",
    "print(tl)"
   ]
  },
  {
   "cell_type": "code",
   "execution_count": 17,
   "id": "b90f0ca0",
   "metadata": {},
   "outputs": [
    {
     "name": "stdout",
     "output_type": "stream",
     "text": [
      "tensor([[[1., 1., 1., 1.],\n",
      "         [1., 1., 1., 1.],\n",
      "         [1., 1., 1., 1.]],\n",
      "\n",
      "        [[1., 1., 1., 1.],\n",
      "         [1., 1., 1., 1.],\n",
      "         [1., 1., 1., 1.]]])\n",
      "tensor([[[1., 1., 1., 1.],\n",
      "         [1., 1., 1., 1.],\n",
      "         [1., 1., 1., 1.]],\n",
      "\n",
      "        [[1., 1., 1., 1.],\n",
      "         [1., 1., 1., 1.],\n",
      "         [1., 1., 1., 1.]]])\n"
     ]
    }
   ],
   "source": [
    "t = torch.ones([2,3,4])\n",
    "tl = torch.ones_like(t)\n",
    "print(t)\n",
    "print(tl)"
   ]
  },
  {
   "cell_type": "code",
   "execution_count": 18,
   "id": "252efda6",
   "metadata": {},
   "outputs": [
    {
     "name": "stdout",
     "output_type": "stream",
     "text": [
      "tensor([[[7, 7, 7, 7],\n",
      "         [7, 7, 7, 7]]])\n",
      "tensor([[[9, 9, 9, 9],\n",
      "         [9, 9, 9, 9]]])\n"
     ]
    }
   ],
   "source": [
    "t = torch.full([1,2,4],7)\n",
    "tl = torch.full_like(t,9)\n",
    "print(t)\n",
    "print(tl)"
   ]
  },
  {
   "cell_type": "code",
   "execution_count": 19,
   "id": "4d9bfff1",
   "metadata": {},
   "outputs": [
    {
     "name": "stdout",
     "output_type": "stream",
     "text": [
      "tensor([[0.4490, 0.5470, 0.1876, 0.4082],\n",
      "        [0.2571, 0.4957, 0.9871, 0.0503],\n",
      "        [0.4540, 0.5196, 0.5266, 0.7369]])\n"
     ]
    }
   ],
   "source": [
    "print(torch.rand([3,4]))"
   ]
  },
  {
   "cell_type": "code",
   "execution_count": 20,
   "id": "392635c3",
   "metadata": {},
   "outputs": [
    {
     "name": "stdout",
     "output_type": "stream",
     "text": [
      "tensor([[ 0.4863, -0.2790,  1.2993],\n",
      "        [ 0.6397, -0.5262,  0.9111]])\n"
     ]
    }
   ],
   "source": [
    "print(torch.randn([2,3]))"
   ]
  },
  {
   "cell_type": "code",
   "execution_count": 31,
   "id": "38f9854a",
   "metadata": {},
   "outputs": [
    {
     "name": "stdout",
     "output_type": "stream",
     "text": [
      "tensor([[3, 0, 4, 3],\n",
      "        [0, 2, 2, 3]])\n"
     ]
    }
   ],
   "source": [
    "print(torch.randint(0,5,[2,4]))"
   ]
  },
  {
   "cell_type": "code",
   "execution_count": 22,
   "id": "caa0db7f",
   "metadata": {},
   "outputs": [
    {
     "name": "stdout",
     "output_type": "stream",
     "text": [
      "tensor([ 0,  1,  2,  3,  4,  5,  6,  7,  8,  9, 10, 11, 12, 13, 14, 15])\n",
      "tensor([ 0,  2,  4,  6,  8, 10, 12, 14])\n"
     ]
    }
   ],
   "source": [
    "print(torch.arange(0,16))\n",
    "print(torch.arange(start=0, end=16, step=2))"
   ]
  },
  {
   "cell_type": "code",
   "execution_count": 32,
   "id": "33c30c0e",
   "metadata": {},
   "outputs": [
    {
     "name": "stdout",
     "output_type": "stream",
     "text": [
      "torch.Size([3, 2, 2])\n",
      "tensor([[[ 0,  1],\n",
      "         [ 2,  3]],\n",
      "\n",
      "        [[ 4,  5],\n",
      "         [ 6,  7]],\n",
      "\n",
      "        [[ 8,  9],\n",
      "         [10, 11]]])\n",
      "tensor(66)\n"
     ]
    }
   ],
   "source": [
    "t = torch.arange(12).reshape(3,2,2)\n",
    "print(t.shape)\n",
    "print(t)\n",
    "print(t.sum())"
   ]
  },
  {
   "cell_type": "code",
   "execution_count": 33,
   "id": "d5aca2d5",
   "metadata": {},
   "outputs": [
    {
     "name": "stdout",
     "output_type": "stream",
     "text": [
      "tensor([[12, 15],\n",
      "        [18, 21]])\n",
      "tensor([0, 4, 8]) tensor(12)\n",
      "tensor([1, 5, 9]) tensor(15)\n",
      "tensor([ 2,  6, 10]) tensor(18)\n",
      "tensor([ 3,  7, 11]) tensor(21)\n"
     ]
    }
   ],
   "source": [
    "print(t.sum(dim=0))\n",
    "print(t[:,0,0],t[:,0,0].sum())\n",
    "print(t[:,0,1],t[:,0,1].sum())\n",
    "print(t[:,1,0],t[:,1,0].sum())\n",
    "print(t[:,1,1],t[:,1,1].sum())"
   ]
  },
  {
   "cell_type": "code",
   "execution_count": 34,
   "id": "0d2c99a0",
   "metadata": {},
   "outputs": [
    {
     "name": "stdout",
     "output_type": "stream",
     "text": [
      "tensor([[ 2,  4],\n",
      "        [10, 12],\n",
      "        [18, 20]])\n",
      "tensor([[ 1,  5],\n",
      "        [ 9, 13],\n",
      "        [17, 21]])\n"
     ]
    }
   ],
   "source": [
    "print(t.sum(dim=1))\n",
    "print(t.sum(dim=-1))"
   ]
  },
  {
   "cell_type": "code",
   "execution_count": 35,
   "id": "3cb1b71b",
   "metadata": {},
   "outputs": [
    {
     "name": "stdout",
     "output_type": "stream",
     "text": [
      "torch.Size([2, 3, 2])\n",
      "tensor([[[ 1.,  2.],\n",
      "         [ 3.,  4.],\n",
      "         [ 5.,  6.]],\n",
      "\n",
      "        [[ 7.,  8.],\n",
      "         [ 9., 10.],\n",
      "         [11., 12.]]])\n"
     ]
    }
   ],
   "source": [
    "t= torch.tensor([[[1.,2.],[3.,4.],[5.,6.]],[[7.,8.],[9.,10.],[11.,12.]]])\n",
    "print(t.shape)\n",
    "print(t)"
   ]
  },
  {
   "cell_type": "code",
   "execution_count": 36,
   "id": "1933a68d",
   "metadata": {},
   "outputs": [
    {
     "name": "stdout",
     "output_type": "stream",
     "text": [
      "tensor(12.)\n",
      "tensor(1.)\n"
     ]
    }
   ],
   "source": [
    "print(t.max())\n",
    "print(t.min())"
   ]
  },
  {
   "cell_type": "code",
   "execution_count": 37,
   "id": "15084346",
   "metadata": {},
   "outputs": [
    {
     "name": "stdout",
     "output_type": "stream",
     "text": [
      "torch.return_types.max(\n",
      "values=tensor([[ 7.,  8.],\n",
      "        [ 9., 10.],\n",
      "        [11., 12.]]),\n",
      "indices=tensor([[1, 1],\n",
      "        [1, 1],\n",
      "        [1, 1]]))\n"
     ]
    }
   ],
   "source": [
    "print(t.max(dim=0))"
   ]
  },
  {
   "cell_type": "code",
   "execution_count": 39,
   "id": "d76f6172",
   "metadata": {},
   "outputs": [
    {
     "name": "stdout",
     "output_type": "stream",
     "text": [
      "torch.return_types.max(\n",
      "values=tensor([[ 5.,  6.],\n",
      "        [11., 12.]]),\n",
      "indices=tensor([[2, 2],\n",
      "        [2, 2]]))\n"
     ]
    }
   ],
   "source": [
    "print(t.max(dim=1))"
   ]
  },
  {
   "cell_type": "code",
   "execution_count": 38,
   "id": "2eae3e58",
   "metadata": {},
   "outputs": [
    {
     "name": "stdout",
     "output_type": "stream",
     "text": [
      "tensor([[ 5.,  6.],\n",
      "        [11., 12.]])\n",
      "tensor([[2, 2],\n",
      "        [2, 2]])\n",
      "\n",
      "tensor([1., 3., 5.])\n",
      "tensor(5.)\n"
     ]
    }
   ],
   "source": [
    "v, i = t.max(dim=1)\n",
    "print(v)\n",
    "print(i)\n",
    "print()\n",
    "print(t[0,:,0])\n",
    "print(t[0,:,0][2])"
   ]
  },
  {
   "cell_type": "code",
   "execution_count": 50,
   "id": "b0b74072",
   "metadata": {},
   "outputs": [
    {
     "name": "stdout",
     "output_type": "stream",
     "text": [
      "tensor(11)\n",
      "tensor([ 1.,  2.,  3.,  4.,  5.,  6.,  7.,  8.,  9., 10., 11., 12.])\n",
      "torch.return_types.max(\n",
      "values=tensor(12.),\n",
      "indices=tensor(11))\n"
     ]
    }
   ],
   "source": [
    "print(t.argmax())\n",
    "print(t.flatten())\n",
    "print(t.flatten().max(dim=0))"
   ]
  },
  {
   "cell_type": "code",
   "execution_count": 51,
   "id": "b08467e3",
   "metadata": {},
   "outputs": [
    {
     "name": "stdout",
     "output_type": "stream",
     "text": [
      "tensor([[[1., 2., 3.],\n",
      "         [4., 5., 6.]]])\n",
      "torch.Size([1, 2, 3])\n"
     ]
    }
   ],
   "source": [
    "t = torch.tensor([[[1.,2.,3.],[4.,5.,6.]]])\n",
    "print(t)\n",
    "print(t.shape)"
   ]
  },
  {
   "cell_type": "code",
   "execution_count": 54,
   "id": "7684b0a8",
   "metadata": {},
   "outputs": [
    {
     "name": "stdout",
     "output_type": "stream",
     "text": [
      "tensor([[[1.],\n",
      "         [2.],\n",
      "         [3.]],\n",
      "\n",
      "        [[4.],\n",
      "         [5.],\n",
      "         [6.]]])\n",
      "torch.Size([2, 3, 1])\n"
     ]
    }
   ],
   "source": [
    "tp = t.permute([1,2,0])\n",
    "print(tp)\n",
    "print(tp.shape)"
   ]
  },
  {
   "cell_type": "code",
   "execution_count": 55,
   "id": "69deacfc",
   "metadata": {},
   "outputs": [
    {
     "name": "stdout",
     "output_type": "stream",
     "text": [
      "torch.Size([3, 4])\n",
      "torch.Size([3, 4, 1])\n",
      "torch.Size([3, 4])\n"
     ]
    }
   ],
   "source": [
    "t = torch.rand([3, 1, 4, 1])\n",
    "print(t.squeeze().shape)\n",
    "print(t.squeeze(dim=1).shape)\n",
    "print(t.reshape([3,4]).shape)"
   ]
  },
  {
   "cell_type": "code",
   "execution_count": 56,
   "id": "e939f9b7",
   "metadata": {},
   "outputs": [
    {
     "name": "stdout",
     "output_type": "stream",
     "text": [
      "torch.Size([1, 3, 4])\n",
      "torch.Size([3, 1, 4])\n",
      "torch.Size([3, 1, 4])\n"
     ]
    }
   ],
   "source": [
    "t = torch.rand([3,4])\n",
    "print(t.unsqueeze(dim=0).shape)\n",
    "print(t.unsqueeze(dim=1).shape)\n",
    "print(t.view([3,1,4]).shape)"
   ]
  },
  {
   "cell_type": "code",
   "execution_count": 57,
   "id": "34d8cf42",
   "metadata": {},
   "outputs": [
    {
     "name": "stdout",
     "output_type": "stream",
     "text": [
      "tensor([[ 0.8576, -0.4532, -1.2614],\n",
      "        [-0.5309,  0.1879, -0.5830]])\n",
      "tensor([[ 0.8576, -0.4532, -1.2614],\n",
      "        [-0.5309,  0.1879, -0.5830],\n",
      "        [ 0.8576, -0.4532, -1.2614],\n",
      "        [-0.5309,  0.1879, -0.5830],\n",
      "        [ 0.8576, -0.4532, -1.2614],\n",
      "        [-0.5309,  0.1879, -0.5830]])\n",
      "torch.Size([6, 3])\n"
     ]
    }
   ],
   "source": [
    "x = torch.randn(2,3)\n",
    "print(x)\n",
    "print(torch.cat((x,x,x), dim=0))\n",
    "print(torch.cat((x,x,x),0).shape)"
   ]
  },
  {
   "cell_type": "code",
   "execution_count": 58,
   "id": "5c225fcc",
   "metadata": {},
   "outputs": [
    {
     "name": "stdout",
     "output_type": "stream",
     "text": [
      "tensor([[ 0.8576, -0.4532, -1.2614,  0.8576, -0.4532, -1.2614,  0.8576, -0.4532,\n",
      "         -1.2614],\n",
      "        [-0.5309,  0.1879, -0.5830, -0.5309,  0.1879, -0.5830, -0.5309,  0.1879,\n",
      "         -0.5830]])\n",
      "torch.Size([2, 9])\n"
     ]
    }
   ],
   "source": [
    "print(torch.cat((x,x,x), 1))\n",
    "print(torch.cat((x,x,x), 1).shape)"
   ]
  },
  {
   "cell_type": "code",
   "execution_count": 60,
   "id": "82e09ed7",
   "metadata": {},
   "outputs": [
    {
     "name": "stdout",
     "output_type": "stream",
     "text": [
      "tensor([[0.1131, 0.7683, 0.5995],\n",
      "        [0.3685, 0.6285, 0.6074],\n",
      "        [0.4705, 0.6166, 0.5303],\n",
      "        [0.4065, 0.3717, 0.2570],\n",
      "        [0.5146, 0.5417, 0.7782],\n",
      "        [0.3818, 0.8832, 0.5678]])\n",
      "torch.Size([6, 3])\n"
     ]
    }
   ],
   "source": [
    "x1 = torch.rand(2,3)\n",
    "x2 = torch.rand(1,3)\n",
    "x3 = torch.rand(3,3)\n",
    "\n",
    "print(torch.cat([x1,x2,x3], 0))\n",
    "print(torch.cat([x1,x2,x3], 0).shape)"
   ]
  },
  {
   "cell_type": "code",
   "execution_count": 61,
   "id": "74ac5c49",
   "metadata": {},
   "outputs": [
    {
     "name": "stdout",
     "output_type": "stream",
     "text": [
      "tensor([-0.5861, -0.2026])\n",
      "tensor([[-0.5861, -0.2026],\n",
      "        [-0.5861, -0.2026],\n",
      "        [-0.5861, -0.2026]])\n",
      "torch.Size([3, 2])\n"
     ]
    }
   ],
   "source": [
    "x = torch.randn(2,)\n",
    "print(x)\n",
    "print(torch.stack((x,x,x)))\n",
    "print(torch.stack((x,x,x)).shape)"
   ]
  },
  {
   "cell_type": "code",
   "execution_count": 62,
   "id": "93beca4f",
   "metadata": {},
   "outputs": [
    {
     "name": "stdout",
     "output_type": "stream",
     "text": [
      "tensor([[-0.5861, -0.2026],\n",
      "        [-0.5861, -0.2026],\n",
      "        [-0.5861, -0.2026]])\n"
     ]
    }
   ],
   "source": [
    "print(torch.cat((x.unsqueeze(0), x.unsqueeze(0), x.unsqueeze(0)), 0))"
   ]
  },
  {
   "cell_type": "code",
   "execution_count": 63,
   "id": "9705d3a2",
   "metadata": {},
   "outputs": [
    {
     "name": "stdout",
     "output_type": "stream",
     "text": [
      "tensor([[-0.5861, -0.5861, -0.5861],\n",
      "        [-0.2026, -0.2026, -0.2026]])\n",
      "torch.Size([2, 3])\n"
     ]
    }
   ],
   "source": [
    "print(torch.stack((x,x,x),dim=1))\n",
    "print(torch.stack((x,x,x),dim=1).shape)"
   ]
  },
  {
   "cell_type": "code",
   "execution_count": null,
   "id": "006a9e36",
   "metadata": {},
   "outputs": [],
   "source": []
  }
 ],
 "metadata": {
  "kernelspec": {
   "display_name": "base",
   "language": "python",
   "name": "python3"
  },
  "language_info": {
   "codemirror_mode": {
    "name": "ipython",
    "version": 3
   },
   "file_extension": ".py",
   "mimetype": "text/x-python",
   "name": "python",
   "nbconvert_exporter": "python",
   "pygments_lexer": "ipython3",
   "version": "3.12.7"
  }
 },
 "nbformat": 4,
 "nbformat_minor": 5
}
