{
 "cells": [
  {
   "cell_type": "code",
   "execution_count": 1,
   "id": "4350636b",
   "metadata": {},
   "outputs": [],
   "source": [
    "import random\n",
    "import torch\n",
    "import torch.nn as nn\n",
    "from torch import optim\n",
    "from torch.utils.data import DataLoader\n",
    "from torchvision import datasets, transforms\n",
    "import numpy as np\n",
    "import matplotlib.pyplot as plt\n",
    "from torch.utils.data import random_split"
   ]
  },
  {
   "cell_type": "code",
   "execution_count": 2,
   "id": "954da55e",
   "metadata": {},
   "outputs": [
    {
     "name": "stdout",
     "output_type": "stream",
     "text": [
      "False cpu\n"
     ]
    }
   ],
   "source": [
    "is_cuda = torch.cuda.is_available()   # GPU가 사용가능한지\n",
    "device = torch.device(\"cuda\" if is_cuda else \"cpu\") # GPU가 사용가능하다면 GPU를 사용 아니면 CPU 사용\n",
    "print(is_cuda, device)"
   ]
  },
  {
   "cell_type": "code",
   "execution_count": 3,
   "id": "19901988",
   "metadata": {},
   "outputs": [],
   "source": [
    "seed = 1010\n",
    "random.seed(seed)         # python seed\n",
    "np.random.seed(seed)      # numpy seed\n",
    "torch.manual_seed(seed)   # torch seed\n",
    "if device == 'cuda':\n",
    "  torch.cuda.manual_seed_all(seed)  # gpu seed"
   ]
  },
  {
   "cell_type": "code",
   "execution_count": 4,
   "id": "a8ce9087",
   "metadata": {},
   "outputs": [],
   "source": [
    "def get_mnist_dataloaders(batch_size, val=0.2, num_workers=0):\n",
    "  transform = transforms.Compose([\n",
    "    transforms.ToTensor(),\n",
    "  ])\n",
    "\n",
    "  # split\n",
    "  mnist_train_origin = datasets.MNIST(\n",
    "      root='MNIST/',\n",
    "      train=True,\n",
    "      download=True,\n",
    "      transform=transform,\n",
    "  )\n",
    "  val_samples = int(len(mnist_train_origin) * val)\n",
    "  train_samples = len(mnist_train_origin) - val_samples\n",
    "\n",
    "  # dataset\n",
    "  mnist_train, mnist_val = random_split(\n",
    "      mnist_train_origin,\n",
    "       (train_samples, val_samples),\n",
    "  )\n",
    "  mnist_test = datasets.MNIST(\n",
    "      root='MNIST/',\n",
    "      train=False,\n",
    "      download=True,\n",
    "      transform=transform,\n",
    "  )\n",
    "\n",
    "  # dataloader\n",
    "  train_loader = DataLoader(\n",
    "      dataset=mnist_train,\n",
    "      batch_size=batch_size,\n",
    "      drop_last=True,\n",
    "      shuffle=True,\n",
    "      num_workers=num_workers,\n",
    "  )\n",
    "  val_loader = DataLoader(\n",
    "      dataset=mnist_val,\n",
    "      batch_size=batch_size,\n",
    "      num_workers=num_workers,\n",
    "  )\n",
    "  test_loader = DataLoader(\n",
    "      dataset=mnist_test,\n",
    "      batch_size=batch_size,\n",
    "      num_workers=num_workers,\n",
    "  )\n",
    "\n",
    "  return train_loader, val_loader, test_loader"
   ]
  },
  {
   "cell_type": "code",
   "execution_count": 5,
   "id": "d5154638",
   "metadata": {},
   "outputs": [],
   "source": [
    "class LeNet(nn.Module):\n",
    "  def __init__(self):\n",
    "    super(LeNet, self).__init__()\n",
    "    self.conv1 = nn.Conv2d(1, 6, kernel_size=5)\n",
    "    self.conv2 = nn.Conv2d(6, 16, kernel_size=5)\n",
    "    self.pool = nn.MaxPool2d(2, 2)\n",
    "    self.fc1 = nn.Linear(16 * 4 * 4, 120)\n",
    "    self.fc2 = nn.Linear(120, 84)\n",
    "    self.fc3 = nn.Linear(84, 10)\n",
    "    self.relu = nn.ReLU()\n",
    "\n",
    "  def forward(self, x):\n",
    "    x = self.relu(self.conv1(x))\n",
    "    x = self.pool(x)\n",
    "    x = self.relu(self.conv2(x))\n",
    "    x = self.pool(x)\n",
    "    x = x.view(x.size(0), -1)\n",
    "    x = self.relu(self.fc1(x))\n",
    "    x = self.relu(self.fc2(x))\n",
    "    x = self.fc3(x)\n",
    "    return x"
   ]
  },
  {
   "cell_type": "code",
   "execution_count": 6,
   "id": "dafa5149",
   "metadata": {},
   "outputs": [],
   "source": [
    "def train(model, dataloader, criterion, optimizer, epoch):\n",
    "  # train mode\n",
    "  model.train()\n",
    "\n",
    "  # 학습 통계\n",
    "  running_loss = 0\n",
    "  correct = 0\n",
    "\n",
    "  for i, (data, targets) in enumerate(dataloader):\n",
    "    data.to(device), targets.to(device)   # data device로 이동\n",
    "\n",
    "    optimizer.zero_grad()       # gradient 초기화\n",
    "    outputs = model(data)       # forward\n",
    "    loss = criterion(outputs, targets)    # loss 계산\n",
    "    loss.backward()             # gradient 계산\n",
    "    optimizer.step()            # weight update\n",
    "\n",
    "    running_loss += loss.item()\n",
    "\n",
    "    # Accuracy 계산\n",
    "    _, predicted = torch.max(outputs, 1)\n",
    "    correct += predicted.eq(targets.view_as(predicted)).sum()\n",
    "\n",
    "  # Accuracy 출력\n",
    "  data_num = len(dataloader.dataset)\n",
    "  acc = 100. * correct / data_num\n",
    "  print(\n",
    "      f\"[{epoch}/{EPOCH}]\",\n",
    "      f\"train loss: {running_loss/len(dataloader):.4f}\",\n",
    "      f\"train acc: {correct}/{data_num} ({acc:.2f}%)\"\n",
    "  )\n",
    "\n",
    "  return running_loss/len(dataloader)"
   ]
  },
  {
   "cell_type": "code",
   "execution_count": 7,
   "id": "a08a4a1a",
   "metadata": {},
   "outputs": [],
   "source": [
    "def validation(model, dataloader, criterion, epoch):\n",
    "  # eval 모드\n",
    "  model.eval()\n",
    "\n",
    "  # 검증 통계\n",
    "  correct = 0\n",
    "  running_loss = 0.\n",
    "\n",
    "  with torch.no_grad():   # gradient 계산 안하기\n",
    "    for i, (data, targets) in enumerate(dataloader):\n",
    "      data.to(device), targets.to(device)   # data device로 이동\n",
    "\n",
    "      outputs = model(data)               # forward\n",
    "      loss = criterion(outputs, targets)  # loss 계산\n",
    "\n",
    "      running_loss += loss.item()\n",
    "\n",
    "      # Accuracy 계산\n",
    "      _, predicted = torch.max(outputs, 1)\n",
    "      correct += predicted.eq(targets.view_as(predicted)).sum()\n",
    "\n",
    "  # Accuracy 계산\n",
    "  data_num = len(dataloader.dataset)\n",
    "  acc = 100. * correct / data_num\n",
    "  print(f'[{epoch}/{EPOCH}] valid loss: {running_loss/len(dataloader):.4f} valid acc: {correct}/{data_num} ({acc:.2f}%)\\n')\n",
    "\n",
    "  return running_loss/len(dataloader)"
   ]
  },
  {
   "cell_type": "code",
   "execution_count": 8,
   "id": "bff97bb7",
   "metadata": {},
   "outputs": [],
   "source": [
    "def test(model, dataloader):\n",
    "  # eval 모드\n",
    "  model.eval()\n",
    "\n",
    "  # 테스트 통계\n",
    "  correct = 0\n",
    "\n",
    "  with torch.no_grad():\n",
    "    for data, targets in dataloader:\n",
    "      data.to(device), targets.to(device)\n",
    "\n",
    "      outputs = model(data)    # forward\n",
    "\n",
    "      # Accuracy 계산\n",
    "      _, predicted = torch.max(outputs, 1)\n",
    "      correct += predicted.eq(targets.view_as(predicted)).sum()\n",
    "\n",
    "  # Accuracy 계산\n",
    "  data_num = len(dataloader.dataset)\n",
    "  print(f'Test Accuracy: {correct}/{data_num} ({100. * correct / data_num:.2f}%)')"
   ]
  },
  {
   "cell_type": "code",
   "execution_count": 9,
   "id": "e62114cf",
   "metadata": {},
   "outputs": [
    {
     "name": "stdout",
     "output_type": "stream",
     "text": [
      "LeNet(\n",
      "  (conv1): Conv2d(1, 6, kernel_size=(5, 5), stride=(1, 1))\n",
      "  (conv2): Conv2d(6, 16, kernel_size=(5, 5), stride=(1, 1))\n",
      "  (pool): MaxPool2d(kernel_size=2, stride=2, padding=0, dilation=1, ceil_mode=False)\n",
      "  (fc1): Linear(in_features=256, out_features=120, bias=True)\n",
      "  (fc2): Linear(in_features=120, out_features=84, bias=True)\n",
      "  (fc3): Linear(in_features=84, out_features=10, bias=True)\n",
      "  (relu): ReLU()\n",
      ")\n"
     ]
    },
    {
     "name": "stderr",
     "output_type": "stream",
     "text": [
      "100%|██████████| 9.91M/9.91M [00:02<00:00, 4.08MB/s]\n",
      "100%|██████████| 28.9k/28.9k [00:00<00:00, 143kB/s]\n",
      "100%|██████████| 1.65M/1.65M [00:01<00:00, 1.39MB/s]\n",
      "100%|██████████| 4.54k/4.54k [00:00<?, ?B/s]\n"
     ]
    },
    {
     "name": "stdout",
     "output_type": "stream",
     "text": [
      "[0/5] train loss: 0.2642 train acc: 43969/48000 (91.60%)\n",
      "[0/5] valid loss: 0.1149 valid acc: 11576/12000 (96.47%)\n",
      "\n",
      "[1/5] train loss: 0.0866 train acc: 46677/48000 (97.24%)\n",
      "[1/5] valid loss: 0.0738 valid acc: 11727/12000 (97.72%)\n",
      "\n",
      "[2/5] train loss: 0.0599 train acc: 47105/48000 (98.14%)\n",
      "[2/5] valid loss: 0.0615 valid acc: 11784/12000 (98.20%)\n",
      "\n",
      "[3/5] train loss: 0.0485 train acc: 47280/48000 (98.50%)\n",
      "[3/5] valid loss: 0.0431 valid acc: 11856/12000 (98.80%)\n",
      "\n",
      "[4/5] train loss: 0.0391 train acc: 47404/48000 (98.76%)\n",
      "[4/5] valid loss: 0.0393 valid acc: 11864/12000 (98.87%)\n",
      "\n",
      "Test Accuracy: 9882/10000 (98.82%)\n"
     ]
    }
   ],
   "source": [
    "# Hyperparameters\n",
    "# Training\n",
    "EPOCH = 5\n",
    "BATCH_SIZE = 32\n",
    "NUM_WORKERS = 1\n",
    "LR = 0.001\n",
    "\n",
    "# Model\n",
    "model = LeNet()\n",
    "print(model)\n",
    "\n",
    "# MNIST dataloader\n",
    "train_loader, val_loader, test_loader = \\\n",
    "get_mnist_dataloaders(BATCH_SIZE, val=0.2, num_workers=NUM_WORKERS)\n",
    "\n",
    "# Loss, Optimizer 정의\n",
    "criterion = nn.CrossEntropyLoss()\n",
    "optimizer = optim.Adam(model.parameters(), lr=LR)\n",
    "\n",
    "train_losses = []\n",
    "val_losses = []\n",
    "\n",
    "for epoch in range(EPOCH):\n",
    "  tloss = train(model, train_loader, criterion, optimizer, epoch)\n",
    "  vloss = validation(model, val_loader, criterion, epoch)\n",
    "\n",
    "  train_losses.append(tloss)\n",
    "  val_losses.append(vloss)\n",
    "\n",
    "test(model, test_loader)"
   ]
  },
  {
   "cell_type": "code",
   "execution_count": 10,
   "id": "622ab229",
   "metadata": {},
   "outputs": [
    {
     "data": {
      "text/plain": [
       "[<matplotlib.lines.Line2D at 0x21365b7c6e0>]"
      ]
     },
     "execution_count": 10,
     "metadata": {},
     "output_type": "execute_result"
    },
    {
     "data": {
      "image/png": "[encoded data removed]",
      "text/plain": [
       "<Figure size 640x480 with 1 Axes>"
      ]
     },
     "metadata": {},
     "output_type": "display_data"
    }
   ],
   "source": [
    "plt.plot(train_losses)\n",
    "plt.plot(val_losses)"
   ]
  }
 ],
 "metadata": {
  "kernelspec": {
   "display_name": "base",
   "language": "python",
   "name": "python3"
  },
  "language_info": {
   "codemirror_mode": {
    "name": "ipython",
    "version": 3
   },
   "file_extension": ".py",
   "mimetype": "text/x-python",
   "name": "python",
   "nbconvert_exporter": "python",
   "pygments_lexer": "ipython3",
   "version": "3.12.7"
  }
 },
 "nbformat": 4,
 "nbformat_minor": 5
}
