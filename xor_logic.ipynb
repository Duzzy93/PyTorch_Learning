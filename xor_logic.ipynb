{
 "cells": [
  {
   "cell_type": "code",
   "execution_count": 1,
   "id": "2ea5d762",
   "metadata": {},
   "outputs": [],
   "source": [
    "def step_function(x):\n",
    "  return 1 if x > 0 else 0\n",
    "\n",
    "def layer1(x0,x1):\n",
    "  w00 = -0.5\n",
    "  w01 = -0.5\n",
    "  b0 = 0.6\n",
    "\n",
    "  w10 = 0.6\n",
    "  w11 = 0.6\n",
    "  b1 = -0.5\n",
    "\n",
    "  result0 = x0*w00 + x1*w01 + b0\n",
    "  result1 = x0*w10 + x1*w11 + b1\n",
    "\n",
    "  result0 = step_function(result0)\n",
    "  result1 = step_function(result1)\n",
    "\n",
    "  return result0, result1"
   ]
  },
  {
   "cell_type": "code",
   "execution_count": 3,
   "id": "fd588071",
   "metadata": {},
   "outputs": [
    {
     "data": {
      "text/plain": [
       "(0, 1, 1, 0)"
      ]
     },
     "execution_count": 3,
     "metadata": {},
     "output_type": "execute_result"
    }
   ],
   "source": [
    "def layer2(x0,x1):\n",
    "  w0 = 0.5\n",
    "  w1 = 0.5\n",
    "  b = -0.6\n",
    "\n",
    "  result = x0*w0 + x1*w1 + b\n",
    "\n",
    "  result = step_function(result)\n",
    "\n",
    "  return result\n",
    "\n",
    "def XOR_MLP(x0,x1):\n",
    "  x0,x1 = layer1(x0,x1)\n",
    "  y = layer2(x0,x1)\n",
    "  return y\n",
    "\n",
    "XOR_MLP(0,0),XOR_MLP(0,1),XOR_MLP(1,0),XOR_MLP(1,1)"
   ]
  }
 ],
 "metadata": {
  "kernelspec": {
   "display_name": "base",
   "language": "python",
   "name": "python3"
  },
  "language_info": {
   "codemirror_mode": {
    "name": "ipython",
    "version": 3
   },
   "file_extension": ".py",
   "mimetype": "text/x-python",
   "name": "python",
   "nbconvert_exporter": "python",
   "pygments_lexer": "ipython3",
   "version": "3.12.7"
  }
 },
 "nbformat": 4,
 "nbformat_minor": 5
}
